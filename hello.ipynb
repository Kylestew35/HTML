{
 "cells": [
  {
   "cell_type": "code",
   "execution_count": null,
   "metadata": {},
   "outputs": [],
   "source": [
    "print {\"hello world\"}\n"
   ]
  }
 ],
 "metadata": {
  "interpreter": {
   "hash": "2aade46472aca67e0bc0575588c06dc7a7da2781d71ca6ea7937b0f390f1518d"
  },
  "kernelspec": {
   "display_name": "Python 3.10.0 64-bit",
   "language": "python",
   "name": "python3"
  },
  "language_info": {
   "name": "python",
   "version": "3.10.0"
  },
  "orig_nbformat": 4
 },
 "nbformat": 4,
 "nbformat_minor": 2
}
